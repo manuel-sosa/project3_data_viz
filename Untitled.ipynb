{
 "cells": [
  {
   "cell_type": "code",
   "execution_count": 7,
   "id": "ce4109bf-6666-4c23-863a-ddda142fc49f",
   "metadata": {},
   "outputs": [],
   "source": [
    "# Import the dependencies\n",
    "import pandas as pd\n",
    "import sqlite3\n",
    "from pathlib import Path\n",
    "from sqlalchemy import create_engine, text\n",
    "\n",
    "# Create a reference to the file\n",
    "database_path = Path(\"Untitled.sql\")"
   ]
  },
  {
   "cell_type": "code",
   "execution_count": 8,
   "id": "3cf0ca88-719e-46a9-bfa6-c7457c8eb84b",
   "metadata": {},
   "outputs": [],
   "source": [
    "# Create an engine that can talk to the database\n",
    "connection = sqlite3.connect(database_path)\n",
    "# engine = create_engine(f\"sqlite:///{database_path}\")\n",
    "# conn = engine.connect()\n",
    "cursor = connection.cursor()"
   ]
  },
  {
   "cell_type": "code",
   "execution_count": 11,
   "id": "2473a23b-26ca-44c9-9add-c50780ecdde4",
   "metadata": {},
   "outputs": [
    {
     "ename": "OperationalError",
     "evalue": "near \"hospital_data\": syntax error",
     "output_type": "error",
     "traceback": [
      "\u001b[0;31m---------------------------------------------------------------------------\u001b[0m",
      "\u001b[0;31mOperationalError\u001b[0m                          Traceback (most recent call last)",
      "Cell \u001b[0;32mIn[11], line 3\u001b[0m\n\u001b[1;32m      1\u001b[0m \u001b[38;5;66;03m# Query all records in the database \u001b[39;00m\n\u001b[1;32m      2\u001b[0m \u001b[38;5;66;03m# query = text(\"SELECT * FROM california_hospital_database.sql\")\u001b[39;00m\n\u001b[0;32m----> 3\u001b[0m \u001b[43mcursor\u001b[49m\u001b[38;5;241;43m.\u001b[39;49m\u001b[43mexecute\u001b[49m\u001b[43m(\u001b[49m\u001b[38;5;124;43m'\u001b[39;49m\u001b[38;5;124;43mSELECT * hospital_data\u001b[39;49m\u001b[38;5;124;43m'\u001b[39;49m\u001b[43m)\u001b[49m\n\u001b[1;32m      4\u001b[0m \u001b[38;5;66;03m# cursor = connection.cursor()\u001b[39;00m\n\u001b[1;32m      5\u001b[0m \u001b[38;5;66;03m# data = pd.read_sql(\"SELECT * FROM hospital_data\", conn)\u001b[39;00m\n\u001b[1;32m      6\u001b[0m \n\u001b[0;32m   (...)\u001b[0m\n\u001b[1;32m      9\u001b[0m \u001b[38;5;66;03m# for record in data\u001b[39;00m\n\u001b[1;32m     10\u001b[0m \u001b[38;5;66;03m# print(data)\u001b[39;00m\n\u001b[1;32m     12\u001b[0m \u001b[38;5;28;01mfor\u001b[39;00m row \u001b[38;5;129;01min\u001b[39;00m cursor\u001b[38;5;241m.\u001b[39mfetchall():\n",
      "\u001b[0;31mOperationalError\u001b[0m: near \"hospital_data\": syntax error"
     ]
    }
   ],
   "source": [
    "# Query all records in the database \n",
    "# query = text(\"SELECT * FROM california_hospital_database.sql\")\n",
    "cursor.execute('SELECT * hospital_data')\n",
    "# cursor = connection.cursor()\n",
    "# data = pd.read_sql(\"SELECT * FROM hospital_data\", conn)\n",
    "\n",
    "# data = engine.execute(query)\n",
    "\n",
    "# for record in data\n",
    "# print(data)\n",
    "\n",
    "for row in cursor.fetchall():\n",
    "    print(row)"
   ]
  },
  {
   "cell_type": "code",
   "execution_count": null,
   "id": "2ae5b663-447b-4bf2-964b-1da46c681a82",
   "metadata": {},
   "outputs": [],
   "source": [
    "connection.close()"
   ]
  },
  {
   "cell_type": "code",
   "execution_count": null,
   "id": "37749de7-9dad-44b9-86cf-f35588ed2e0c",
   "metadata": {},
   "outputs": [],
   "source": []
  }
 ],
 "metadata": {
  "kernelspec": {
   "display_name": "Python [conda env:dev3] *",
   "language": "python",
   "name": "conda-env-dev3-py"
  },
  "language_info": {
   "codemirror_mode": {
    "name": "ipython",
    "version": 3
   },
   "file_extension": ".py",
   "mimetype": "text/x-python",
   "name": "python",
   "nbconvert_exporter": "python",
   "pygments_lexer": "ipython3",
   "version": "3.10.13"
  }
 },
 "nbformat": 4,
 "nbformat_minor": 5
}
